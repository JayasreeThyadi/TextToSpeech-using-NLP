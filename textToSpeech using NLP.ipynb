{
 "cells": [
  {
   "cell_type": "code",
   "execution_count": 4,
   "id": "3af98762",
   "metadata": {},
   "outputs": [
    {
     "name": "stdout",
     "output_type": "stream",
     "text": [
      "Requirement already satisfied: nltk in c:\\users\\jayasreet\\.ipython\\anaconda\\lib\\site-packages (3.6.1)\n",
      "Requirement already satisfied: tqdm in c:\\users\\jayasreet\\.ipython\\anaconda\\lib\\site-packages (from nltk) (4.59.0)\n",
      "Requirement already satisfied: regex in c:\\users\\jayasreet\\.ipython\\anaconda\\lib\\site-packages (from nltk) (2021.4.4)\n",
      "Requirement already satisfied: click in c:\\users\\jayasreet\\.ipython\\anaconda\\lib\\site-packages (from nltk) (7.1.2)\n",
      "Requirement already satisfied: joblib in c:\\users\\jayasreet\\.ipython\\anaconda\\lib\\site-packages (from nltk) (1.0.1)\n"
     ]
    }
   ],
   "source": [
    "!pip install nltk\n",
    "import nltk\n",
    "import nltk.corpus"
   ]
  },
  {
   "cell_type": "code",
   "execution_count": 8,
   "id": "27479b0f",
   "metadata": {},
   "outputs": [
    {
     "data": {
      "text/plain": [
       "['Samay',\n",
       " 'Raina',\n",
       " 'is',\n",
       " 'the',\n",
       " 'best',\n",
       " 'chess',\n",
       " 'player',\n",
       " 'in',\n",
       " 'the',\n",
       " 'world']"
      ]
     },
     "execution_count": 8,
     "metadata": {},
     "output_type": "execute_result"
    }
   ],
   "source": [
    "#tokenization\n",
    "\n",
    "from nltk.tokenize import word_tokenize\n",
    "chess = \"Samay Raina is the best chess player in the world\"\n",
    "word_tokenize(chess)\n",
    "\n"
   ]
  },
  {
   "cell_type": "code",
   "execution_count": 6,
   "id": "7e7d8f39",
   "metadata": {},
   "outputs": [
    {
     "data": {
      "text/plain": [
       "['Samay Raina is the best chess streamer in the world.',\n",
       " 'Sagar Shah is the best chess coach in the world.']"
      ]
     },
     "execution_count": 6,
     "metadata": {},
     "output_type": "execute_result"
    }
   ],
   "source": [
    "#sentence tokenizer\n",
    "\n",
    "from nltk.tokenize import sent_tokenize\n",
    "chess2=\"Samay Raina is the best chess streamer in the world. Sagar Shah is the best chess coach in the world.\"\n",
    "sent_tokenize(chess2)"
   ]
  },
  {
   "cell_type": "code",
   "execution_count": 9,
   "id": "648e0b23",
   "metadata": {},
   "outputs": [
    {
     "data": {
      "text/plain": [
       "10"
      ]
     },
     "execution_count": 9,
     "metadata": {},
     "output_type": "execute_result"
    }
   ],
   "source": [
    "len(word_tokenize(chess))"
   ]
  },
  {
   "cell_type": "code",
   "execution_count": 14,
   "id": "d3eeeef1",
   "metadata": {},
   "outputs": [
    {
     "data": {
      "text/plain": [
       "[('Can', 'anybody'),\n",
       " ('anybody', 'hear'),\n",
       " ('hear', 'me'),\n",
       " ('me', 'or'),\n",
       " ('or', 'am'),\n",
       " ('am', 'i'),\n",
       " ('i', 'talking'),\n",
       " ('talking', 'to'),\n",
       " ('to', 'myself'),\n",
       " ('myself', '?'),\n",
       " ('?', 'My'),\n",
       " ('My', 'mind'),\n",
       " ('mind', 'is'),\n",
       " ('is', 'running'),\n",
       " ('running', 'empty'),\n",
       " ('empty', 'in'),\n",
       " ('in', 'the'),\n",
       " ('the', 'search'),\n",
       " ('search', 'for'),\n",
       " ('for', 'someone'),\n",
       " ('someone', 'else')]"
      ]
     },
     "execution_count": 14,
     "metadata": {},
     "output_type": "execute_result"
    }
   ],
   "source": [
    "#n-grams\n",
    "#It calculates the probabilities of words that will come afterward\n",
    "\n",
    "astro =\"Can anybody hear me or am i talking to myself? My mind is running empty in the search for someone else\"\n",
    "astro_tk=(word_tokenize(astro))\n",
    "list(nltk.bigrams(astro_tk))"
   ]
  },
  {
   "cell_type": "code",
   "execution_count": 15,
   "id": "ae759834",
   "metadata": {},
   "outputs": [
    {
     "data": {
      "text/plain": [
       "[('Can', 'anybody', 'hear'),\n",
       " ('anybody', 'hear', 'me'),\n",
       " ('hear', 'me', 'or'),\n",
       " ('me', 'or', 'am'),\n",
       " ('or', 'am', 'i'),\n",
       " ('am', 'i', 'talking'),\n",
       " ('i', 'talking', 'to'),\n",
       " ('talking', 'to', 'myself'),\n",
       " ('to', 'myself', '?'),\n",
       " ('myself', '?', 'My'),\n",
       " ('?', 'My', 'mind'),\n",
       " ('My', 'mind', 'is'),\n",
       " ('mind', 'is', 'running'),\n",
       " ('is', 'running', 'empty'),\n",
       " ('running', 'empty', 'in'),\n",
       " ('empty', 'in', 'the'),\n",
       " ('in', 'the', 'search'),\n",
       " ('the', 'search', 'for'),\n",
       " ('search', 'for', 'someone'),\n",
       " ('for', 'someone', 'else')]"
      ]
     },
     "execution_count": 15,
     "metadata": {},
     "output_type": "execute_result"
    }
   ],
   "source": [
    "list(nltk.trigrams(astro_tk))"
   ]
  },
  {
   "cell_type": "code",
   "execution_count": 16,
   "id": "62b8c3e4",
   "metadata": {},
   "outputs": [
    {
     "data": {
      "text/plain": [
       "[('Can', 'anybody', 'hear', 'me', 'or'),\n",
       " ('anybody', 'hear', 'me', 'or', 'am'),\n",
       " ('hear', 'me', 'or', 'am', 'i'),\n",
       " ('me', 'or', 'am', 'i', 'talking'),\n",
       " ('or', 'am', 'i', 'talking', 'to'),\n",
       " ('am', 'i', 'talking', 'to', 'myself'),\n",
       " ('i', 'talking', 'to', 'myself', '?'),\n",
       " ('talking', 'to', 'myself', '?', 'My'),\n",
       " ('to', 'myself', '?', 'My', 'mind'),\n",
       " ('myself', '?', 'My', 'mind', 'is'),\n",
       " ('?', 'My', 'mind', 'is', 'running'),\n",
       " ('My', 'mind', 'is', 'running', 'empty'),\n",
       " ('mind', 'is', 'running', 'empty', 'in'),\n",
       " ('is', 'running', 'empty', 'in', 'the'),\n",
       " ('running', 'empty', 'in', 'the', 'search'),\n",
       " ('empty', 'in', 'the', 'search', 'for'),\n",
       " ('in', 'the', 'search', 'for', 'someone'),\n",
       " ('the', 'search', 'for', 'someone', 'else')]"
      ]
     },
     "execution_count": 16,
     "metadata": {},
     "output_type": "execute_result"
    }
   ],
   "source": [
    "list(nltk.ngrams(astro_tk,5))"
   ]
  },
  {
   "cell_type": "code",
   "execution_count": 19,
   "id": "cdb0e0f2",
   "metadata": {},
   "outputs": [
    {
     "data": {
      "text/plain": [
       "'shop'"
      ]
     },
     "execution_count": 19,
     "metadata": {},
     "output_type": "execute_result"
    }
   ],
   "source": [
    "#stemming\n",
    "\n",
    "from nltk.stem import PorterStemmer\n",
    "my_stem= PorterStemmer()\n",
    "\n",
    "#to find the root word\n",
    "my_stem.stem(\"shopping\")\n"
   ]
  },
  {
   "cell_type": "code",
   "execution_count": 26,
   "id": "4b7a66cc",
   "metadata": {},
   "outputs": [
    {
     "name": "stderr",
     "output_type": "stream",
     "text": [
      "[nltk_data] Downloading package averaged_perceptron_tagger to\n",
      "[nltk_data]     C:\\Users\\JayasreeT\\AppData\\Roaming\\nltk_data...\n",
      "[nltk_data]   Package averaged_perceptron_tagger is already up-to-\n",
      "[nltk_data]       date!\n"
     ]
    },
    {
     "data": {
      "text/plain": [
       "[('Tom', 'NNP'),\n",
       " ('Hanks', 'NNP'),\n",
       " ('is', 'VBZ'),\n",
       " ('the', 'DT'),\n",
       " ('best', 'JJS'),\n",
       " ('actor', 'NN'),\n",
       " ('in', 'IN'),\n",
       " ('the', 'DT'),\n",
       " ('world', 'NN')]"
      ]
     },
     "execution_count": 26,
     "metadata": {},
     "output_type": "execute_result"
    }
   ],
   "source": [
    "#pos-tagging--partsOfSpeech\n",
    "'''nnp--proper noun\n",
    "vbz--verb\n",
    "dt--determiner/article\n",
    "jjs--superlative adj\n",
    "nn--noun...'''\n",
    "\n",
    "\n",
    "nltk.download('averaged_perceptron_tagger')\n",
    "tom=\"Tom Hanks is the best actor in the world\"\n",
    "tom_tk=word_tokenize(tom)\n",
    "nltk.pos_tag(tom_tk)"
   ]
  },
  {
   "cell_type": "code",
   "execution_count": 32,
   "id": "4b442350",
   "metadata": {},
   "outputs": [
    {
     "name": "stderr",
     "output_type": "stream",
     "text": [
      "[nltk_data] Downloading package words to\n",
      "[nltk_data]     C:\\Users\\JayasreeT\\AppData\\Roaming\\nltk_data...\n"
     ]
    },
    {
     "name": "stdout",
     "output_type": "stream",
     "text": [
      "(S\n",
      "  (PERSON Obama/NNP)\n",
      "  was/VBD\n",
      "  the/DT\n",
      "  44th/JJ\n",
      "  president/NN\n",
      "  of/IN\n",
      "  (GPE America/NNP))\n"
     ]
    },
    {
     "name": "stderr",
     "output_type": "stream",
     "text": [
      "[nltk_data]   Unzipping corpora\\words.zip.\n",
      "[nltk_data] Downloading package maxent_ne_chunker to\n",
      "[nltk_data]     C:\\Users\\JayasreeT\\AppData\\Roaming\\nltk_data...\n",
      "[nltk_data]   Package maxent_ne_chunker is already up-to-date!\n"
     ]
    }
   ],
   "source": [
    "#named entity recognition\n",
    "\n",
    "\n",
    "nltk.download('words')\n",
    "nltk.download('maxent_ne_chunker')\n",
    "\n",
    "from nltk import ne_chunk\n",
    "pres=\"Obama was the 44th president of America\"\n",
    "pres_tk=word_tokenize(pres)\n",
    "\n",
    "pres_pos=nltk.pos_tag(pres_tk)\n",
    "print(ne_chunk(pres_pos))"
   ]
  },
  {
   "cell_type": "code",
   "execution_count": null,
   "id": "1d77a153",
   "metadata": {},
   "outputs": [],
   "source": []
  },
  {
   "cell_type": "markdown",
   "id": "1d691808",
   "metadata": {},
   "source": [
    "Text-to-speech"
   ]
  },
  {
   "cell_type": "code",
   "execution_count": 34,
   "id": "9fe3cd79",
   "metadata": {},
   "outputs": [
    {
     "name": "stdout",
     "output_type": "stream",
     "text": [
      "Requirement already satisfied: gTTS in c:\\users\\jayasreet\\.ipython\\anaconda\\lib\\site-packages (2.2.3)\n",
      "Requirement already satisfied: six in c:\\users\\jayasreet\\.ipython\\anaconda\\lib\\site-packages (from gTTS) (1.15.0)\n",
      "Requirement already satisfied: click in c:\\users\\jayasreet\\.ipython\\anaconda\\lib\\site-packages (from gTTS) (7.1.2)\n",
      "Requirement already satisfied: requests in c:\\users\\jayasreet\\.ipython\\anaconda\\lib\\site-packages (from gTTS) (2.26.0)\n",
      "Requirement already satisfied: charset-normalizer~=2.0.0 in c:\\users\\jayasreet\\.ipython\\anaconda\\lib\\site-packages (from requests->gTTS) (2.0.7)\n",
      "Requirement already satisfied: idna<4,>=2.5 in c:\\users\\jayasreet\\.ipython\\anaconda\\lib\\site-packages (from requests->gTTS) (2.10)\n",
      "Requirement already satisfied: urllib3<1.27,>=1.21.1 in c:\\users\\jayasreet\\.ipython\\anaconda\\lib\\site-packages (from requests->gTTS) (1.26.4)\n",
      "Requirement already satisfied: certifi>=2017.4.17 in c:\\users\\jayasreet\\.ipython\\anaconda\\lib\\site-packages (from requests->gTTS) (2020.12.5)\n"
     ]
    }
   ],
   "source": [
    "!pip install gTTS"
   ]
  },
  {
   "cell_type": "code",
   "execution_count": 1,
   "id": "8cd61bdc",
   "metadata": {},
   "outputs": [
    {
     "name": "stdout",
     "output_type": "stream",
     "text": [
      "hello, testing!\n"
     ]
    },
    {
     "data": {
      "text/html": [
       "\n",
       "                <audio  controls=\"controls\" autoplay=\"autoplay\">\n",
       "                    <source src=\"data:audio/wav;base64,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\" type=\"audio/wav\" />\n",
       "                    Your browser does not support the audio element.\n",
       "                </audio>\n",
       "              "
      ],
      "text/plain": [
       "<IPython.lib.display.Audio object>"
      ]
     },
     "execution_count": 1,
     "metadata": {},
     "output_type": "execute_result"
    }
   ],
   "source": [
    "from gtts import gTTS\n",
    "from IPython.display import Audio #to play some audio\n",
    "\n",
    "tts=gTTS(input())\n",
    "tts.save('1.wav')  #tts to wav file\n",
    "soun='1.wav'\n",
    "Audio(soun,autoplay=True)  #playing wav file using audio method"
   ]
  },
  {
   "cell_type": "code",
   "execution_count": null,
   "id": "27e2c39b",
   "metadata": {},
   "outputs": [],
   "source": []
  },
  {
   "cell_type": "code",
   "execution_count": 7,
   "id": "0f260289",
   "metadata": {},
   "outputs": [
    {
     "name": "stdout",
     "output_type": "stream",
     "text": [
      "125\n",
      "1.0\n",
      "hello, testing!\n",
      "word None 1 686208\n",
      "finishing None True\n",
      "word None 1 773696\n",
      "finishing None True\n"
     ]
    }
   ],
   "source": [
    "#import library\n",
    "import pyttsx3 \n",
    "#if any error when installation install the dependency library, If you receive errors such as No module named win32com.client, No module named win32, or No module named win32api, you will need to additionally install pypiwin32.     \n",
    "engine = pyttsx3.init()     #declare \n",
    "\n",
    "#engine.say(\"I will speak this text\")  #pass any string \n",
    "engine.runAndWait()  #output in voice format\n",
    "\n",
    "# Changing Voice , Rate and Volume\n",
    "\n",
    "import pyttsx3\n",
    "engine = pyttsx3.init() # object creation\n",
    "\n",
    "\"\"\" RATE\"\"\"\n",
    "rate = engine.getProperty('rate')   # getting details of current speaking rate\n",
    "print (rate)                    \t#printing current voice rate\n",
    "engine.setProperty('rate', 125) \t# setting up new voice rate\n",
    "\n",
    "#####VOLUME#####\n",
    "volume = engine.getProperty('volume')   #getting to know current volume level (min=0 and max=1)\n",
    "print (volume)                      \t#printing current volume level\n",
    "engine.setProperty('volume',1.0)\t# setting up volume level  between 0 and 1\n",
    "\n",
    "#####VOICE#####\n",
    "voices = engine.getProperty('voices')   \t#getting details of current voice\n",
    "#engine.setProperty('voice', voices[0].id)  #changing index, changes voices. o for male\n",
    "engine.setProperty('voice', voices[1].id)   #changing index, changes voices. 1 for female\n",
    "\n",
    "sen=engine.say(input())\n",
    "engine.say('My current speaking rate is ' + str(rate))\n",
    "engine.runAndWait()\n",
    "engine.stop()\n",
    "\n",
    "#####Saving Voice to a file#####\n",
    "# On linux make sure that 'espeak' and 'ffmpeg' are installed\n",
    "engine.save_to_file(sen, 'test.mp3')\n",
    "engine.runAndWait()\n"
   ]
  },
  {
   "cell_type": "code",
   "execution_count": 2,
   "id": "94788846",
   "metadata": {},
   "outputs": [
    {
     "name": "stdout",
     "output_type": "stream",
     "text": [
      "word None 1 0\n",
      "finishing None True\n"
     ]
    }
   ],
   "source": [
    "import pyttsx3\n",
    "  \n",
    "def onStart():\n",
    "   print('starting')\n",
    "  \n",
    "def onWord(name, location, length):\n",
    "   print('word', name, location, length)\n",
    "  \n",
    "def onEnd(name, completed):\n",
    "   print('finishing', name, completed)\n",
    "  \n",
    "engine = pyttsx3.init()\n",
    "  \n",
    "engine.connect('started-utterance', onStart)\n",
    "engine.connect('started-word', onWord)\n",
    "engine.connect('finished-utterance', onEnd)\n",
    "  \n",
    "sen = 'Geeks for geeks is a computer portal for Geeks'\n",
    "  \n",
    "  \n",
    "engine.say(sen)\n",
    "engine.runAndWait()"
   ]
  },
  {
   "cell_type": "code",
   "execution_count": null,
   "id": "4f9cd6c7",
   "metadata": {},
   "outputs": [],
   "source": []
  }
 ],
 "metadata": {
  "kernelspec": {
   "display_name": "Python 3",
   "language": "python",
   "name": "python3"
  },
  "language_info": {
   "codemirror_mode": {
    "name": "ipython",
    "version": 3
   },
   "file_extension": ".py",
   "mimetype": "text/x-python",
   "name": "python",
   "nbconvert_exporter": "python",
   "pygments_lexer": "ipython3",
   "version": "3.8.8"
  }
 },
 "nbformat": 4,
 "nbformat_minor": 5
}
